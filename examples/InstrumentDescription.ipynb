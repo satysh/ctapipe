{
 "cells": [
  {
   "cell_type": "markdown",
   "metadata": {},
   "source": [
    "# Working with Instrumental Descriptions\n",
    "\n",
    "the instrumental description is loaded by the event source, and consists of a hierarchy of classes in the ctapipe.instrument module, the base of which is the `SubarrayDescription`"
   ]
  },
  {
   "cell_type": "code",
   "execution_count": 1,
   "metadata": {
    "execution": {
     "iopub.execute_input": "2021-06-04T13:42:20.227111Z",
     "iopub.status.busy": "2021-06-04T13:42:20.226392Z",
     "iopub.status.idle": "2021-06-04T13:42:27.419486Z",
     "shell.execute_reply": "2021-06-04T13:42:27.418947Z"
    }
   },
   "outputs": [
    {
     "data": {
      "application/vnd.jupyter.widget-view+json": {
       "model_id": "4e3d2376283146679d1bc460a5ad9d6a",
       "version_major": 2,
       "version_minor": 0
      },
      "text/plain": [
       "Downloading gamma_test_large.simtel.gz:   0%|          | 0.00/41.7M [00:00<?, ?B/s]"
      ]
     },
     "metadata": {},
     "output_type": "display_data"
    }
   ],
   "source": [
    "from ctapipe.utils.datasets import get_dataset_path\n",
    "from ctapipe.io import EventSource\n",
    "import numpy as np\n",
    "\n",
    "#filename = get_dataset_path(\"gamma_test_large.simtel.gz\") # try this one as well\n",
    "filename = get_dataset_path(\"gamma_test_large.simtel.gz\")  \n",
    "\n",
    "with EventSource(filename, max_events=1) as source:\n",
    "    subarray = source.subarray"
   ]
  },
  {
   "cell_type": "markdown",
   "metadata": {},
   "source": [
    "## the SubarrayDescription:"
   ]
  },
  {
   "cell_type": "code",
   "execution_count": 2,
   "metadata": {
    "execution": {
     "iopub.execute_input": "2021-06-04T13:42:27.430005Z",
     "iopub.status.busy": "2021-06-04T13:42:27.429005Z",
     "iopub.status.idle": "2021-06-04T13:42:27.470097Z",
     "shell.execute_reply": "2021-06-04T13:42:27.469700Z"
    }
   },
   "outputs": [
    {
     "name": "stdout",
     "output_type": "stream",
     "text": [
      "Subarray : MonteCarloArray\n",
      "Num Tels : 98\n",
      "Footprint: 4.92 km2\n",
      "\n",
      "       Type        Count Tel IDs\n",
      "------------------ ----- -------\n",
      "SST_ASTRI_ASTRICam    69 30-98  \n",
      "    LST_LST_LSTCam     4 1-4    \n",
      "  MST_MST_FlashCam    25 5-29   \n"
     ]
    }
   ],
   "source": [
    "subarray.info()"
   ]
  },
  {
   "cell_type": "code",
   "execution_count": 3,
   "metadata": {
    "execution": {
     "iopub.execute_input": "2021-06-04T13:42:27.481883Z",
     "iopub.status.busy": "2021-06-04T13:42:27.481429Z",
     "iopub.status.idle": "2021-06-04T13:42:27.486325Z",
     "shell.execute_reply": "2021-06-04T13:42:27.485815Z"
    }
   },
   "outputs": [
    {
     "data": {
      "text/html": [
       "<i>Table length=98</i>\n",
       "<table id=\"table140380148382016\" class=\"table-striped table-bordered table-condensed\">\n",
       "<thead><tr><th>tel_id</th><th>pos_x</th><th>pos_y</th><th>pos_z</th><th>name</th><th>type</th><th>num_mirrors</th><th>camera_type</th><th>tel_description</th></tr></thead>\n",
       "<thead><tr><th></th><th>m</th><th>m</th><th>m</th><th></th><th></th><th></th><th></th><th></th></tr></thead>\n",
       "<thead><tr><th>int16</th><th>float64</th><th>float64</th><th>float64</th><th>str5</th><th>str3</th><th>int64</th><th>str8</th><th>str18</th></tr></thead>\n",
       "<tr><td>1</td><td>-20.0</td><td>65.0</td><td>16.0</td><td>LST</td><td>LST</td><td>1</td><td>LSTCam</td><td>LST_LST_LSTCam</td></tr>\n",
       "<tr><td>2</td><td>-20.0</td><td>-65.0</td><td>16.0</td><td>LST</td><td>LST</td><td>1</td><td>LSTCam</td><td>LST_LST_LSTCam</td></tr>\n",
       "<tr><td>3</td><td>80.0</td><td>0.0</td><td>16.0</td><td>LST</td><td>LST</td><td>1</td><td>LSTCam</td><td>LST_LST_LSTCam</td></tr>\n",
       "<tr><td>4</td><td>-120.0</td><td>0.0</td><td>16.0</td><td>LST</td><td>LST</td><td>1</td><td>LSTCam</td><td>LST_LST_LSTCam</td></tr>\n",
       "<tr><td>5</td><td>0.0</td><td>0.0</td><td>10.0</td><td>MST</td><td>MST</td><td>1</td><td>FlashCam</td><td>MST_MST_FlashCam</td></tr>\n",
       "<tr><td>6</td><td>0.0</td><td>151.1999969482422</td><td>10.0</td><td>MST</td><td>MST</td><td>1</td><td>FlashCam</td><td>MST_MST_FlashCam</td></tr>\n",
       "<tr><td>7</td><td>0.0</td><td>-151.1999969482422</td><td>10.0</td><td>MST</td><td>MST</td><td>1</td><td>FlashCam</td><td>MST_MST_FlashCam</td></tr>\n",
       "<tr><td>8</td><td>146.65599060058594</td><td>75.5999984741211</td><td>10.0</td><td>MST</td><td>MST</td><td>1</td><td>FlashCam</td><td>MST_MST_FlashCam</td></tr>\n",
       "<tr><td>9</td><td>146.65599060058594</td><td>-75.5999984741211</td><td>10.0</td><td>MST</td><td>MST</td><td>1</td><td>FlashCam</td><td>MST_MST_FlashCam</td></tr>\n",
       "<tr><td>...</td><td>...</td><td>...</td><td>...</td><td>...</td><td>...</td><td>...</td><td>...</td><td>...</td></tr>\n",
       "<tr><td>89</td><td>956.7870483398438</td><td>739.822998046875</td><td>5.0</td><td>ASTRI</td><td>SST</td><td>2</td><td>ASTRICam</td><td>SST_ASTRI_ASTRICam</td></tr>\n",
       "<tr><td>90</td><td>956.7870483398438</td><td>-739.822998046875</td><td>5.0</td><td>ASTRI</td><td>SST</td><td>2</td><td>ASTRICam</td><td>SST_ASTRI_ASTRICam</td></tr>\n",
       "<tr><td>91</td><td>-239.19699096679688</td><td>1109.7349853515625</td><td>5.0</td><td>ASTRI</td><td>SST</td><td>2</td><td>ASTRICam</td><td>SST_ASTRI_ASTRICam</td></tr>\n",
       "<tr><td>92</td><td>-239.19699096679688</td><td>-1109.7349853515625</td><td>5.0</td><td>ASTRI</td><td>SST</td><td>2</td><td>ASTRICam</td><td>SST_ASTRI_ASTRICam</td></tr>\n",
       "<tr><td>93</td><td>-956.7870483398438</td><td>739.822998046875</td><td>5.0</td><td>ASTRI</td><td>SST</td><td>2</td><td>ASTRICam</td><td>SST_ASTRI_ASTRICam</td></tr>\n",
       "<tr><td>94</td><td>-956.7870483398438</td><td>-739.822998046875</td><td>5.0</td><td>ASTRI</td><td>SST</td><td>2</td><td>ASTRICam</td><td>SST_ASTRI_ASTRICam</td></tr>\n",
       "<tr><td>95</td><td>1195.9840087890625</td><td>369.9119873046875</td><td>5.0</td><td>ASTRI</td><td>SST</td><td>2</td><td>ASTRICam</td><td>SST_ASTRI_ASTRICam</td></tr>\n",
       "<tr><td>96</td><td>1195.9840087890625</td><td>-369.9119873046875</td><td>5.0</td><td>ASTRI</td><td>SST</td><td>2</td><td>ASTRICam</td><td>SST_ASTRI_ASTRICam</td></tr>\n",
       "<tr><td>97</td><td>-1195.9840087890625</td><td>369.9119873046875</td><td>5.0</td><td>ASTRI</td><td>SST</td><td>2</td><td>ASTRICam</td><td>SST_ASTRI_ASTRICam</td></tr>\n",
       "<tr><td>98</td><td>-1195.9840087890625</td><td>-369.9119873046875</td><td>5.0</td><td>ASTRI</td><td>SST</td><td>2</td><td>ASTRICam</td><td>SST_ASTRI_ASTRICam</td></tr>\n",
       "</table>"
      ],
      "text/plain": [
       "<Table length=98>\n",
       "tel_id        pos_x        ... camera_type  tel_description  \n",
       "                m          ...                               \n",
       "int16        float64       ...     str8          str18       \n",
       "------ ------------------- ... ----------- ------------------\n",
       "     1               -20.0 ...      LSTCam     LST_LST_LSTCam\n",
       "     2               -20.0 ...      LSTCam     LST_LST_LSTCam\n",
       "     3                80.0 ...      LSTCam     LST_LST_LSTCam\n",
       "     4              -120.0 ...      LSTCam     LST_LST_LSTCam\n",
       "     5                 0.0 ...    FlashCam   MST_MST_FlashCam\n",
       "     6                 0.0 ...    FlashCam   MST_MST_FlashCam\n",
       "     7                 0.0 ...    FlashCam   MST_MST_FlashCam\n",
       "     8  146.65599060058594 ...    FlashCam   MST_MST_FlashCam\n",
       "     9  146.65599060058594 ...    FlashCam   MST_MST_FlashCam\n",
       "   ...                 ... ...         ...                ...\n",
       "    89   956.7870483398438 ...    ASTRICam SST_ASTRI_ASTRICam\n",
       "    90   956.7870483398438 ...    ASTRICam SST_ASTRI_ASTRICam\n",
       "    91 -239.19699096679688 ...    ASTRICam SST_ASTRI_ASTRICam\n",
       "    92 -239.19699096679688 ...    ASTRICam SST_ASTRI_ASTRICam\n",
       "    93  -956.7870483398438 ...    ASTRICam SST_ASTRI_ASTRICam\n",
       "    94  -956.7870483398438 ...    ASTRICam SST_ASTRI_ASTRICam\n",
       "    95  1195.9840087890625 ...    ASTRICam SST_ASTRI_ASTRICam\n",
       "    96  1195.9840087890625 ...    ASTRICam SST_ASTRI_ASTRICam\n",
       "    97 -1195.9840087890625 ...    ASTRICam SST_ASTRI_ASTRICam\n",
       "    98 -1195.9840087890625 ...    ASTRICam SST_ASTRI_ASTRICam"
      ]
     },
     "execution_count": 1,
     "metadata": {},
     "output_type": "execute_result"
    }
   ],
   "source": [
    "subarray.to_table()"
   ]
  },
  {
   "cell_type": "markdown",
   "metadata": {},
   "source": [
    "You can also get a table of just the `OpticsDescriptions` (`CameraGeometry` is more complex and can't be stored on a single table row, so each one can be converted to a table separately)"
   ]
  },
  {
   "cell_type": "code",
   "execution_count": 4,
   "metadata": {
    "execution": {
     "iopub.execute_input": "2021-06-04T13:42:27.489663Z",
     "iopub.status.busy": "2021-06-04T13:42:27.489203Z",
     "iopub.status.idle": "2021-06-04T13:42:27.528150Z",
     "shell.execute_reply": "2021-06-04T13:42:27.527714Z"
    }
   },
   "outputs": [
    {
     "data": {
      "text/html": [
       "<i>Table length=3</i>\n",
       "<table id=\"table140381288284656\" class=\"table-striped table-bordered table-condensed\">\n",
       "<thead><tr><th>description</th><th>name</th><th>type</th><th>mirror_area</th><th>num_mirrors</th><th>num_mirror_tiles</th><th>equivalent_focal_length</th></tr></thead>\n",
       "<thead><tr><th></th><th></th><th></th><th>m2</th><th></th><th></th><th>m</th></tr></thead>\n",
       "<thead><tr><th>str18</th><th>str5</th><th>str3</th><th>float64</th><th>int64</th><th>int64</th><th>float64</th></tr></thead>\n",
       "<tr><td>SST_ASTRI_ASTRICam</td><td>ASTRI</td><td>SST</td><td>14.562566757202148</td><td>2</td><td>2</td><td>2.1500000953674316</td></tr>\n",
       "<tr><td>LST_LST_LSTCam</td><td>LST</td><td>LST</td><td>386.7332458496094</td><td>1</td><td>198</td><td>28.0</td></tr>\n",
       "<tr><td>MST_MST_FlashCam</td><td>MST</td><td>MST</td><td>103.83055877685547</td><td>1</td><td>84</td><td>16.0</td></tr>\n",
       "</table>"
      ],
      "text/plain": [
       "<Table length=3>\n",
       "   description      name type ... num_mirror_tiles equivalent_focal_length\n",
       "                              ...                             m           \n",
       "      str18         str5 str3 ...      int64               float64        \n",
       "------------------ ----- ---- ... ---------------- -----------------------\n",
       "SST_ASTRI_ASTRICam ASTRI  SST ...                2      2.1500000953674316\n",
       "    LST_LST_LSTCam   LST  LST ...              198                    28.0\n",
       "  MST_MST_FlashCam   MST  MST ...               84                    16.0"
      ]
     },
     "execution_count": 1,
     "metadata": {},
     "output_type": "execute_result"
    }
   ],
   "source": [
    "subarray.to_table(kind='optics')"
   ]
  },
  {
   "cell_type": "markdown",
   "metadata": {},
   "source": [
    "Make a sub-array with only SC-type telescopes:"
   ]
  },
  {
   "cell_type": "code",
   "execution_count": 5,
   "metadata": {
    "execution": {
     "iopub.execute_input": "2021-06-04T13:42:27.539054Z",
     "iopub.status.busy": "2021-06-04T13:42:27.538578Z",
     "iopub.status.idle": "2021-06-04T13:42:27.566640Z",
     "shell.execute_reply": "2021-06-04T13:42:27.567059Z"
    }
   },
   "outputs": [
    {
     "name": "stdout",
     "output_type": "stream",
     "text": [
      "Subarray : SCTels\n",
      "Num Tels : 69\n",
      "Footprint: 4.92 km2\n",
      "\n",
      "       Type        Count Tel IDs\n",
      "------------------ ----- -------\n",
      "SST_ASTRI_ASTRICam    69 30-98  \n"
     ]
    }
   ],
   "source": [
    "tab = subarray.to_table()\n",
    "sc_tels = tab[tab['num_mirrors'] == 2]['tel_id']  # select tel_id of entries where the mirror type is SC\n",
    "newsub = subarray.select_subarray(sc_tels, name=\"SCTels\")\n",
    "newsub.info()"
   ]
  },
  {
   "cell_type": "markdown",
   "metadata": {},
   "source": [
    "can also do this by using `Table.group_by`"
   ]
  },
  {
   "cell_type": "code",
   "execution_count": 6,
   "metadata": {
    "execution": {
     "iopub.execute_input": "2021-06-04T13:42:27.575325Z",
     "iopub.status.busy": "2021-06-04T13:42:27.574846Z",
     "iopub.status.idle": "2021-06-04T13:42:27.588409Z",
     "shell.execute_reply": "2021-06-04T13:42:27.587968Z"
    }
   },
   "outputs": [
    {
     "name": "stdout",
     "output_type": "stream",
     "text": [
      "Subarray : SCTels\n",
      "Num Tels : 29\n",
      "Footprint: 1.06 km2\n",
      "\n",
      "      Type       Count Tel IDs\n",
      "---------------- ----- -------\n",
      "  LST_LST_LSTCam     4 1-4    \n",
      "MST_MST_FlashCam    25 5-29   \n"
     ]
    }
   ],
   "source": [
    "gtab = tab.group_by('num_mirrors')\n",
    "sc = gtab.groups[0]\n",
    "newsub = subarray.select_subarray(sc['tel_id'], name=\"SCTels\")\n",
    "newsub.info()"
   ]
  },
  {
   "cell_type": "markdown",
   "metadata": {},
   "source": [
    "## Explore some of the details of the telescopes"
   ]
  },
  {
   "cell_type": "code",
   "execution_count": 7,
   "metadata": {
    "execution": {
     "iopub.execute_input": "2021-06-04T13:42:27.592388Z",
     "iopub.status.busy": "2021-06-04T13:42:27.591914Z",
     "iopub.status.idle": "2021-06-04T13:42:27.594131Z",
     "shell.execute_reply": "2021-06-04T13:42:27.594531Z"
    }
   },
   "outputs": [
    {
     "data": {
      "text/plain": [
       "TelescopeDescription(type=MST, name=MST, optics=MST, camera=FlashCam)"
      ]
     },
     "execution_count": 1,
     "metadata": {},
     "output_type": "execute_result"
    }
   ],
   "source": [
    "tel = subarray.tel[5]\n",
    "tel"
   ]
  },
  {
   "cell_type": "code",
   "execution_count": 8,
   "metadata": {
    "execution": {
     "iopub.execute_input": "2021-06-04T13:42:27.599037Z",
     "iopub.status.busy": "2021-06-04T13:42:27.598565Z",
     "iopub.status.idle": "2021-06-04T13:42:27.600789Z",
     "shell.execute_reply": "2021-06-04T13:42:27.601158Z"
    }
   },
   "outputs": [
    {
     "data": {
      "text/latex": [
       "$103.83056 \\; \\mathrm{m^{2}}$"
      ],
      "text/plain": [
       "<Quantity 103.83055878 m2>"
      ]
     },
     "execution_count": 1,
     "metadata": {},
     "output_type": "execute_result"
    }
   ],
   "source": [
    "tel.optics.mirror_area"
   ]
  },
  {
   "cell_type": "code",
   "execution_count": 9,
   "metadata": {
    "execution": {
     "iopub.execute_input": "2021-06-04T13:42:27.604934Z",
     "iopub.status.busy": "2021-06-04T13:42:27.604458Z",
     "iopub.status.idle": "2021-06-04T13:42:27.606671Z",
     "shell.execute_reply": "2021-06-04T13:42:27.607046Z"
    }
   },
   "outputs": [
    {
     "data": {
      "text/plain": [
       "84"
      ]
     },
     "execution_count": 1,
     "metadata": {},
     "output_type": "execute_result"
    }
   ],
   "source": [
    "tel.optics.num_mirror_tiles"
   ]
  },
  {
   "cell_type": "code",
   "execution_count": 10,
   "metadata": {
    "execution": {
     "iopub.execute_input": "2021-06-04T13:42:27.611159Z",
     "iopub.status.busy": "2021-06-04T13:42:27.610693Z",
     "iopub.status.idle": "2021-06-04T13:42:27.612946Z",
     "shell.execute_reply": "2021-06-04T13:42:27.613319Z"
    }
   },
   "outputs": [
    {
     "data": {
      "text/latex": [
       "$16 \\; \\mathrm{m}$"
      ],
      "text/plain": [
       "<Quantity 16. m>"
      ]
     },
     "execution_count": 1,
     "metadata": {},
     "output_type": "execute_result"
    }
   ],
   "source": [
    "tel.optics.equivalent_focal_length"
   ]
  },
  {
   "cell_type": "code",
   "execution_count": 11,
   "metadata": {
    "execution": {
     "iopub.execute_input": "2021-06-04T13:42:27.617030Z",
     "iopub.status.busy": "2021-06-04T13:42:27.616557Z",
     "iopub.status.idle": "2021-06-04T13:42:27.618752Z",
     "shell.execute_reply": "2021-06-04T13:42:27.619124Z"
    }
   },
   "outputs": [
    {
     "data": {
      "text/plain": [
       "CameraDescription(camera_name=FlashCam, geometry=FlashCam, readout=FlashCam)"
      ]
     },
     "execution_count": 1,
     "metadata": {},
     "output_type": "execute_result"
    }
   ],
   "source": [
    "tel.camera"
   ]
  },
  {
   "cell_type": "code",
   "execution_count": 12,
   "metadata": {
    "execution": {
     "iopub.execute_input": "2021-06-04T13:42:27.623363Z",
     "iopub.status.busy": "2021-06-04T13:42:27.622898Z",
     "iopub.status.idle": "2021-06-04T13:42:27.625122Z",
     "shell.execute_reply": "2021-06-04T13:42:27.625492Z"
    }
   },
   "outputs": [
    {
     "data": {
      "text/latex": [
       "$[-0.028867999,~-0.072168998,~0.057735,~\\dots,~-0.54848301,~-0.50518101,~-0.54848301] \\; \\mathrm{m}$"
      ],
      "text/plain": [
       "<Quantity [-0.028868  , -0.072169  ,  0.057735  , ..., -0.54848301,\n",
       "           -0.50518101, -0.54848301] m>"
      ]
     },
     "execution_count": 1,
     "metadata": {},
     "output_type": "execute_result"
    }
   ],
   "source": [
    "tel.camera.geometry.pix_x"
   ]
  },
  {
   "cell_type": "code",
   "execution_count": 13,
   "metadata": {
    "execution": {
     "iopub.execute_input": "2021-06-04T13:42:27.629445Z",
     "iopub.status.busy": "2021-06-04T13:42:27.628992Z",
     "iopub.status.idle": "2021-06-04T13:42:28.263227Z",
     "shell.execute_reply": "2021-06-04T13:42:28.263613Z"
    }
   },
   "outputs": [
    {
     "data": {
      "text/plain": [
       "<ctapipe.visualization.mpl_camera.CameraDisplay at 0x7facccdc2fd0>"
      ]
     },
     "execution_count": 1,
     "metadata": {},
     "output_type": "execute_result"
    },
    {
     "data": {
      "image/png": "[encoded data removed]",
      "text/plain": [
       "<Figure size 432x288 with 1 Axes>"
      ]
     },
     "metadata": {
      "needs_background": "light"
     },
     "output_type": "display_data"
    }
   ],
   "source": [
    "%matplotlib inline\n",
    "from ctapipe.visualization import CameraDisplay\n",
    "CameraDisplay(tel.camera.geometry)"
   ]
  },
  {
   "cell_type": "code",
   "execution_count": 14,
   "metadata": {
    "execution": {
     "iopub.execute_input": "2021-06-04T13:42:28.302841Z",
     "iopub.status.busy": "2021-06-04T13:42:28.281959Z",
     "iopub.status.idle": "2021-06-04T13:42:28.747891Z",
     "shell.execute_reply": "2021-06-04T13:42:28.748318Z"
    }
   },
   "outputs": [
    {
     "data": {
      "text/plain": [
       "<ctapipe.visualization.mpl_camera.CameraDisplay at 0x7facc66e7e80>"
      ]
     },
     "execution_count": 1,
     "metadata": {},
     "output_type": "execute_result"
    },
    {
     "data": {
      "image/png": "[encoded data removed]",
      "text/plain": [
       "<Figure size 432x288 with 1 Axes>"
      ]
     },
     "metadata": {
      "needs_background": "light"
     },
     "output_type": "display_data"
    }
   ],
   "source": [
    "CameraDisplay(subarray.tel[98].camera.geometry)"
   ]
  },
  {
   "cell_type": "markdown",
   "metadata": {},
   "source": [
    "## Plot the subarray\n",
    "\n",
    "We'll make a subarray by telescope type and plot each separately, so they appear in different colors.  We also calculate the radius using the mirror area (and exagerate it a bit).\n",
    "\n",
    "This is just for debugging and info, for any \"real\" use, a `visualization.ArrayDisplay` should be used"
   ]
  },
  {
   "cell_type": "code",
   "execution_count": 15,
   "metadata": {
    "execution": {
     "iopub.execute_input": "2021-06-04T13:42:28.751758Z",
     "iopub.status.busy": "2021-06-04T13:42:28.751303Z",
     "iopub.status.idle": "2021-06-04T13:42:29.106513Z",
     "shell.execute_reply": "2021-06-04T13:42:29.106063Z"
    }
   },
   "outputs": [
    {
     "data": {
      "image/png": "[encoded data removed]",
      "text/plain": [
       "<Figure size 576x576 with 1 Axes>"
      ]
     },
     "metadata": {
      "needs_background": "light"
     },
     "output_type": "display_data"
    }
   ],
   "source": [
    "subarray.peek()"
   ]
  },
  {
   "cell_type": "code",
   "execution_count": 16,
   "metadata": {
    "execution": {
     "iopub.execute_input": "2021-06-04T13:42:29.111058Z",
     "iopub.status.busy": "2021-06-04T13:42:29.110604Z",
     "iopub.status.idle": "2021-06-04T13:42:29.115064Z",
     "shell.execute_reply": "2021-06-04T13:42:29.114689Z"
    }
   },
   "outputs": [
    {
     "data": {
      "text/latex": [
       "$4.9235437 \\; \\mathrm{km^{2}}$"
      ],
      "text/plain": [
       "<Quantity 4.92354368 km2>"
      ]
     },
     "execution_count": 1,
     "metadata": {},
     "output_type": "execute_result"
    }
   ],
   "source": [
    "subarray.footprint"
   ]
  },
  {
   "cell_type": "markdown",
   "metadata": {},
   "source": [
    "## Get info about the subarray in general"
   ]
  },
  {
   "cell_type": "code",
   "execution_count": 17,
   "metadata": {
    "execution": {
     "iopub.execute_input": "2021-06-04T13:42:29.119248Z",
     "iopub.status.busy": "2021-06-04T13:42:29.118095Z",
     "iopub.status.idle": "2021-06-04T13:42:29.156783Z",
     "shell.execute_reply": "2021-06-04T13:42:29.156364Z"
    }
   },
   "outputs": [
    {
     "data": {
      "text/plain": [
       "[TelescopeDescription(type=SST, name=ASTRI, optics=ASTRI, camera=ASTRICam),\n",
       " TelescopeDescription(type=LST, name=LST, optics=LST, camera=LSTCam),\n",
       " TelescopeDescription(type=MST, name=MST, optics=MST, camera=FlashCam)]"
      ]
     },
     "execution_count": 1,
     "metadata": {},
     "output_type": "execute_result"
    }
   ],
   "source": [
    "subarray.telescope_types"
   ]
  },
  {
   "cell_type": "code",
   "execution_count": 18,
   "metadata": {
    "execution": {
     "iopub.execute_input": "2021-06-04T13:42:29.162003Z",
     "iopub.status.busy": "2021-06-04T13:42:29.161557Z",
     "iopub.status.idle": "2021-06-04T13:42:29.165893Z",
     "shell.execute_reply": "2021-06-04T13:42:29.165498Z"
    }
   },
   "outputs": [
    {
     "data": {
      "text/plain": [
       "[CameraDescription(camera_name=FlashCam, geometry=FlashCam, readout=FlashCam),\n",
       " CameraDescription(camera_name=LSTCam, geometry=LSTCam, readout=LSTCam),\n",
       " CameraDescription(camera_name=ASTRICam, geometry=ASTRICam, readout=ASTRICam)]"
      ]
     },
     "execution_count": 1,
     "metadata": {},
     "output_type": "execute_result"
    }
   ],
   "source": [
    "subarray.camera_types"
   ]
  },
  {
   "cell_type": "code",
   "execution_count": 19,
   "metadata": {
    "execution": {
     "iopub.execute_input": "2021-06-04T13:42:29.170260Z",
     "iopub.status.busy": "2021-06-04T13:42:29.169818Z",
     "iopub.status.idle": "2021-06-04T13:42:29.174062Z",
     "shell.execute_reply": "2021-06-04T13:42:29.173667Z"
    }
   },
   "outputs": [
    {
     "data": {
      "text/plain": [
       "[OpticsDescription(name=ASTRI, equivalent_focal_length=2.15 m, num_mirrors=2, mirror_area=14.56 m2),\n",
       " OpticsDescription(name=MST, equivalent_focal_length=16.00 m, num_mirrors=1, mirror_area=103.83 m2),\n",
       " OpticsDescription(name=LST, equivalent_focal_length=28.00 m, num_mirrors=1, mirror_area=386.73 m2)]"
      ]
     },
     "execution_count": 1,
     "metadata": {},
     "output_type": "execute_result"
    }
   ],
   "source": [
    "subarray.optics_types"
   ]
  },
  {
   "cell_type": "code",
   "execution_count": 20,
   "metadata": {
    "execution": {
     "iopub.execute_input": "2021-06-04T13:42:29.189798Z",
     "iopub.status.busy": "2021-06-04T13:42:29.189347Z",
     "iopub.status.idle": "2021-06-04T13:42:29.194694Z",
     "shell.execute_reply": "2021-06-04T13:42:29.194293Z"
    }
   },
   "outputs": [
    {
     "data": {
      "text/latex": [
       "[$95^\\circ38{}^\\prime18.0015{}^{\\prime\\prime}$\n",
       " $117^\\circ35{}^\\prime31.273{}^{\\prime\\prime}$\n",
       " $15^\\circ56{}^\\prime32.527{}^{\\prime\\prime}$\n",
       " $166^\\circ24{}^\\prime15.7253{}^{\\prime\\prime}$\n",
       " $90^\\circ00{}^\\prime00{}^{\\prime\\prime}$\n",
       " $78^\\circ42{}^\\prime54.1682{}^{\\prime\\prime}$\n",
       " $101^\\circ17{}^\\prime05.8318{}^{\\prime\\prime}$\n",
       " $16^\\circ19{}^\\prime25.416{}^{\\prime\\prime}$\n",
       " $38^\\circ42{}^\\prime43.3493{}^{\\prime\\prime}$\n",
       " $138^\\circ18{}^\\prime26.2816{}^{\\prime\\prime}$\n",
       " $160^\\circ45{}^\\prime08.6066{}^{\\prime\\prime}$\n",
       " $45^\\circ50{}^\\prime11.5818{}^{\\prime\\prime}$\n",
       " $68^\\circ26{}^\\prime09.4249{}^{\\prime\\prime}$\n",
       " $11^\\circ27{}^\\prime33.9556{}^{\\prime\\prime}$\n",
       " $111^\\circ33{}^\\prime50.5751{}^{\\prime\\prime}$\n",
       " $134^\\circ09{}^\\prime48.4182{}^{\\prime\\prime}$\n",
       " $168^\\circ32{}^\\prime26.0444{}^{\\prime\\prime}$\n",
       " $78^\\circ41{}^\\prime43.7281{}^{\\prime\\prime}$\n",
       " $101^\\circ18{}^\\prime16.2719{}^{\\prime\\prime}$\n",
       " $16^\\circ02{}^\\prime24.2016{}^{\\prime\\prime}$\n",
       " $38^\\circ36{}^\\prime32.8491{}^{\\prime\\prime}$\n",
       " $141^\\circ23{}^\\prime27.1509{}^{\\prime\\prime}$\n",
       " $163^\\circ57{}^\\prime35.7984{}^{\\prime\\prime}$\n",
       " $45^\\circ48{}^\\prime42.2049{}^{\\prime\\prime}$\n",
       " $68^\\circ25{}^\\prime33.0227{}^{\\prime\\prime}$\n",
       " $11^\\circ21{}^\\prime07.5916{}^{\\prime\\prime}$\n",
       " $111^\\circ34{}^\\prime26.9773{}^{\\prime\\prime}$\n",
       " $134^\\circ11{}^\\prime17.7951{}^{\\prime\\prime}$\n",
       " $168^\\circ38{}^\\prime52.4084{}^{\\prime\\prime}$\n",
       " $49^\\circ01{}^\\prime53.8821{}^{\\prime\\prime}$\n",
       " $130^\\circ58{}^\\prime06.1179{}^{\\prime\\prime}$\n",
       " $153^\\circ34{}^\\prime33.8961{}^{\\prime\\prime}$\n",
       " $57^\\circ29{}^\\prime13.3129{}^{\\prime\\prime}$\n",
       " $80^\\circ06{}^\\prime19.0782{}^{\\prime\\prime}$\n",
       " $99^\\circ53{}^\\prime40.9218{}^{\\prime\\prime}$\n",
       " $122^\\circ30{}^\\prime46.6871{}^{\\prime\\prime}$\n",
       " $1^\\circ21{}^\\prime19.7674{}^{\\prime\\prime}$\n",
       " $23^\\circ51{}^\\prime29.0911{}^{\\prime\\prime}$\n",
       " $156^\\circ08{}^\\prime30.9089{}^{\\prime\\prime}$\n",
       " $178^\\circ38{}^\\prime40.2326{}^{\\prime\\prime}$\n",
       " $78^\\circ41{}^\\prime26.1515{}^{\\prime\\prime}$\n",
       " $101^\\circ18{}^\\prime33.8485{}^{\\prime\\prime}$\n",
       " $34^\\circ34{}^\\prime02.3914{}^{\\prime\\prime}$\n",
       " $57^\\circ11{}^\\prime07.3317{}^{\\prime\\prime}$\n",
       " $122^\\circ48{}^\\prime52.6683{}^{\\prime\\prime}$\n",
       " $145^\\circ25{}^\\prime57.6086{}^{\\prime\\prime}$\n",
       " $15^\\circ57{}^\\prime57.3762{}^{\\prime\\prime}$\n",
       " $38^\\circ34{}^\\prime56.9335{}^{\\prime\\prime}$\n",
       " $141^\\circ25{}^\\prime03.0665{}^{\\prime\\prime}$\n",
       " $164^\\circ02{}^\\prime02.6238{}^{\\prime\\prime}$\n",
       " $78^\\circ41{}^\\prime25.2281{}^{\\prime\\prime}$\n",
       " $101^\\circ18{}^\\prime34.7719{}^{\\prime\\prime}$\n",
       " $11^\\circ18{}^\\prime54.9244{}^{\\prime\\prime}$\n",
       " $168^\\circ41{}^\\prime05.0756{}^{\\prime\\prime}$\n",
       " $45^\\circ48{}^\\prime11.2618{}^{\\prime\\prime}$\n",
       " $68^\\circ25{}^\\prime20.4612{}^{\\prime\\prime}$\n",
       " $111^\\circ34{}^\\prime39.5388{}^{\\prime\\prime}$\n",
       " $134^\\circ11{}^\\prime48.7382{}^{\\prime\\prime}$\n",
       " $63^\\circ12{}^\\prime03.8214{}^{\\prime\\prime}$\n",
       " $85^\\circ49{}^\\prime13.7063{}^{\\prime\\prime}$\n",
       " $29^\\circ21{}^\\prime33.4806{}^{\\prime\\prime}$\n",
       " $51^\\circ58{}^\\prime41.6293{}^{\\prime\\prime}$\n",
       " $3^\\circ09{}^\\prime32.0002{}^{\\prime\\prime}$\n",
       " $25^\\circ45{}^\\prime53.6564{}^{\\prime\\prime}$\n",
       " $94^\\circ10{}^\\prime46.2937{}^{\\prime\\prime}$\n",
       " $116^\\circ47{}^\\prime56.1786{}^{\\prime\\prime}$\n",
       " $128^\\circ01{}^\\prime18.3707{}^{\\prime\\prime}$\n",
       " $150^\\circ38{}^\\prime26.5194{}^{\\prime\\prime}$\n",
       " $154^\\circ14{}^\\prime06.3436{}^{\\prime\\prime}$\n",
       " $176^\\circ50{}^\\prime27.9998{}^{\\prime\\prime}$\n",
       " $78^\\circ41{}^\\prime24.8214{}^{\\prime\\prime}$\n",
       " $101^\\circ18{}^\\prime35.1786{}^{\\prime\\prime}$\n",
       " $15^\\circ57{}^\\prime47.4141{}^{\\prime\\prime}$\n",
       " $38^\\circ34{}^\\prime53.4825{}^{\\prime\\prime}$\n",
       " $141^\\circ25{}^\\prime06.5175{}^{\\prime\\prime}$\n",
       " $164^\\circ02{}^\\prime12.5859{}^{\\prime\\prime}$\n",
       " $11^\\circ18{}^\\prime46.4095{}^{\\prime\\prime}$\n",
       " $168^\\circ41{}^\\prime13.5905{}^{\\prime\\prime}$\n",
       " $52^\\circ49{}^\\prime06.0105{}^{\\prime\\prime}$\n",
       " $75^\\circ26{}^\\prime16.4206{}^{\\prime\\prime}$\n",
       " $38^\\circ57{}^\\prime04.2653{}^{\\prime\\prime}$\n",
       " $61^\\circ34{}^\\prime14.3105{}^{\\prime\\prime}$\n",
       " $104^\\circ33{}^\\prime43.5794{}^{\\prime\\prime}$\n",
       " $127^\\circ10{}^\\prime53.9895{}^{\\prime\\prime}$\n",
       " $118^\\circ25{}^\\prime45.6895{}^{\\prime\\prime}$\n",
       " $141^\\circ02{}^\\prime55.7347{}^{\\prime\\prime}$\n",
       " $66^\\circ31{}^\\prime35.8563{}^{\\prime\\prime}$\n",
       " $89^\\circ08{}^\\prime46.5312{}^{\\prime\\prime}$\n",
       " $26^\\circ24{}^\\prime12.8535{}^{\\prime\\prime}$\n",
       " $49^\\circ01{}^\\prime22.348{}^{\\prime\\prime}$\n",
       " $90^\\circ51{}^\\prime13.4688{}^{\\prime\\prime}$\n",
       " $113^\\circ28{}^\\prime24.1437{}^{\\prime\\prime}$\n",
       " $130^\\circ58{}^\\prime37.652{}^{\\prime\\prime}$\n",
       " $153^\\circ35{}^\\prime47.1465{}^{\\prime\\prime}$\n",
       " $5^\\circ52{}^\\prime51.9148{}^{\\prime\\prime}$\n",
       " $28^\\circ29{}^\\prime50.4816{}^{\\prime\\prime}$\n",
       " $151^\\circ30{}^\\prime09.5184{}^{\\prime\\prime}$\n",
       " $174^\\circ07{}^\\prime08.0852{}^{\\prime\\prime}$]"
      ],
      "text/plain": [
       "<Angle [ 95.63833374, 117.59202028,  15.94236861, 166.40436814,\n",
       "         90.        ,  78.71504671, 101.28495329,  16.32372666,\n",
       "         38.71204146, 138.30730046, 160.75239071,  45.8365505 ,\n",
       "         68.43595137,  11.45943212, 111.56404863, 134.1634495 ,\n",
       "        168.54056788,  78.69548002, 101.30451998,  16.04005599,\n",
       "         38.60912476, 141.39087524, 163.95994401,  45.81172359,\n",
       "         68.42583965,  11.35210877, 111.57416035, 134.18827641,\n",
       "        168.64789123,  49.03163391, 130.96836609, 153.57608224,\n",
       "         57.48703137,  80.10529951,  99.89470049, 122.51296863,\n",
       "          1.35549094,  23.85808087, 156.14191913, 178.64450906,\n",
       "         78.69059764, 101.30940236,  34.56733094,  57.18536991,\n",
       "        122.81463009, 145.43266906,  15.96593785,  38.58248153,\n",
       "        141.41751847, 164.03406215,  78.69034114, 101.30965886,\n",
       "         11.31525677, 168.68474323,  45.80312828,  68.42235035,\n",
       "        111.57764965, 134.19687172,  63.2010615 ,  85.82047396,\n",
       "         29.35930018,  51.97823035,   3.15888895,  25.76490456,\n",
       "         94.17952604, 116.7989385 , 128.02176965, 150.64069982,\n",
       "        154.23509544, 176.84111105,  78.69022816, 101.30977184,\n",
       "         15.96317058,  38.58152291, 141.41847709, 164.03682942,\n",
       "         11.31289154, 168.68710846,  52.81833625,  75.4378946 ,\n",
       "         38.95118481,  61.5706418 , 104.5621054 , 127.18166375,\n",
       "        118.4293582 , 141.04881519,  66.52662676,  89.14625866,\n",
       "         26.40357041,  49.02287445,  90.85374134, 113.47337324,\n",
       "        130.97712555, 153.59642959,   5.88108744,  28.497356  ,\n",
       "        151.502644  , 174.11891256] deg>"
      ]
     },
     "execution_count": 1,
     "metadata": {},
     "output_type": "execute_result"
    }
   ],
   "source": [
    "from astropy.coordinates import SkyCoord\n",
    "from ctapipe.coordinates import GroundFrame\n",
    "center = SkyCoord(\"10.0 m\", \"2.0 m\", \"0.0 m\", frame='groundframe')\n",
    "coords = subarray.tel_coords  # a flat list of coordinates by tel_index\n",
    "coords.separation(center)"
   ]
  },
  {
   "cell_type": "markdown",
   "metadata": {},
   "source": [
    "## Telescope IDs vs Indices\n",
    "\n",
    "Note that `subarray.tel` is a dict mapped by `tel_id` (the indentifying number of a telescope).  It is  possible to have telescope IDs that do not start at 0, are not contiguouous (e.g. if a subarray is selected).  Some functions and properties like `tel_coords` are numpy arrays (not dicts) so they are not mapped to the telescope ID, but rather the *index* within this SubarrayDescription. To convert between the two concepts you can do:"
   ]
  },
  {
   "cell_type": "code",
   "execution_count": 21,
   "metadata": {
    "execution": {
     "iopub.execute_input": "2021-06-04T13:42:29.198305Z",
     "iopub.status.busy": "2021-06-04T13:42:29.197840Z",
     "iopub.status.idle": "2021-06-04T13:42:29.203074Z",
     "shell.execute_reply": "2021-06-04T13:42:29.202546Z"
    }
   },
   "outputs": [
    {
     "data": {
      "text/plain": [
       "array([ 0,  4, 22])"
      ]
     },
     "execution_count": 1,
     "metadata": {},
     "output_type": "execute_result"
    }
   ],
   "source": [
    "subarray.tel_ids_to_indices([1,5,23])"
   ]
  },
  {
   "cell_type": "markdown",
   "metadata": {},
   "source": [
    "or you can get the indexing array directly in numpy or dict form:"
   ]
  },
  {
   "cell_type": "code",
   "execution_count": 22,
   "metadata": {
    "execution": {
     "iopub.execute_input": "2021-06-04T13:42:29.206583Z",
     "iopub.status.busy": "2021-06-04T13:42:29.206114Z",
     "iopub.status.idle": "2021-06-04T13:42:29.210029Z",
     "shell.execute_reply": "2021-06-04T13:42:29.210396Z"
    }
   },
   "outputs": [
    {
     "data": {
      "text/plain": [
       "array([-1,  0,  1,  2,  3,  4,  5,  6,  7,  8,  9, 10, 11, 12, 13, 14, 15,\n",
       "       16, 17, 18, 19, 20, 21, 22, 23, 24, 25, 26, 27, 28, 29, 30, 31, 32,\n",
       "       33, 34, 35, 36, 37, 38, 39, 40, 41, 42, 43, 44, 45, 46, 47, 48, 49,\n",
       "       50, 51, 52, 53, 54, 55, 56, 57, 58, 59, 60, 61, 62, 63, 64, 65, 66,\n",
       "       67, 68, 69, 70, 71, 72, 73, 74, 75, 76, 77, 78, 79, 80, 81, 82, 83,\n",
       "       84, 85, 86, 87, 88, 89, 90, 91, 92, 93, 94, 95, 96, 97])"
      ]
     },
     "execution_count": 1,
     "metadata": {},
     "output_type": "execute_result"
    }
   ],
   "source": [
    "subarray.tel_index_array"
   ]
  },
  {
   "cell_type": "code",
   "execution_count": 23,
   "metadata": {
    "execution": {
     "iopub.execute_input": "2021-06-04T13:42:29.213595Z",
     "iopub.status.busy": "2021-06-04T13:42:29.213137Z",
     "iopub.status.idle": "2021-06-04T13:42:29.216521Z",
     "shell.execute_reply": "2021-06-04T13:42:29.216868Z"
    }
   },
   "outputs": [
    {
     "data": {
      "text/plain": [
       "array([ 0,  4, 22])"
      ]
     },
     "execution_count": 1,
     "metadata": {},
     "output_type": "execute_result"
    }
   ],
   "source": [
    "subarray.tel_index_array[[1,5,23]]"
   ]
  },
  {
   "cell_type": "code",
   "execution_count": 24,
   "metadata": {
    "execution": {
     "iopub.execute_input": "2021-06-04T13:42:29.220529Z",
     "iopub.status.busy": "2021-06-04T13:42:29.220066Z",
     "iopub.status.idle": "2021-06-04T13:42:29.222206Z",
     "shell.execute_reply": "2021-06-04T13:42:29.222600Z"
    }
   },
   "outputs": [
    {
     "data": {
      "text/plain": [
       "0"
      ]
     },
     "execution_count": 1,
     "metadata": {},
     "output_type": "execute_result"
    }
   ],
   "source": [
    "subarray.tel_indices[1]  # this is a dict of tel_id -> tel_index, so we can only do one at once"
   ]
  },
  {
   "cell_type": "code",
   "execution_count": 25,
   "metadata": {
    "execution": {
     "iopub.execute_input": "2021-06-04T13:42:29.226164Z",
     "iopub.status.busy": "2021-06-04T13:42:29.225700Z",
     "iopub.status.idle": "2021-06-04T13:42:29.262362Z",
     "shell.execute_reply": "2021-06-04T13:42:29.262780Z"
    }
   },
   "outputs": [
    {
     "data": {
      "text/plain": [
       "[30,\n",
       " 31,\n",
       " 32,\n",
       " 33,\n",
       " 34,\n",
       " 35,\n",
       " 36,\n",
       " 37,\n",
       " 38,\n",
       " 39,\n",
       " 40,\n",
       " 41,\n",
       " 42,\n",
       " 43,\n",
       " 44,\n",
       " 45,\n",
       " 46,\n",
       " 47,\n",
       " 48,\n",
       " 49,\n",
       " 50,\n",
       " 51,\n",
       " 52,\n",
       " 53,\n",
       " 54,\n",
       " 55,\n",
       " 56,\n",
       " 57,\n",
       " 58,\n",
       " 59,\n",
       " 60,\n",
       " 61,\n",
       " 62,\n",
       " 63,\n",
       " 64,\n",
       " 65,\n",
       " 66,\n",
       " 67,\n",
       " 68,\n",
       " 69,\n",
       " 70,\n",
       " 71,\n",
       " 72,\n",
       " 73,\n",
       " 74,\n",
       " 75,\n",
       " 76,\n",
       " 77,\n",
       " 78,\n",
       " 79,\n",
       " 80,\n",
       " 81,\n",
       " 82,\n",
       " 83,\n",
       " 84,\n",
       " 85,\n",
       " 86,\n",
       " 87,\n",
       " 88,\n",
       " 89,\n",
       " 90,\n",
       " 91,\n",
       " 92,\n",
       " 93,\n",
       " 94,\n",
       " 95,\n",
       " 96,\n",
       " 97,\n",
       " 98]"
      ]
     },
     "execution_count": 1,
     "metadata": {},
     "output_type": "execute_result"
    }
   ],
   "source": [
    "ids = subarray.get_tel_ids_for_type(subarray.telescope_types[0])\n",
    "ids"
   ]
  },
  {
   "cell_type": "code",
   "execution_count": 26,
   "metadata": {
    "execution": {
     "iopub.execute_input": "2021-06-04T13:42:29.267426Z",
     "iopub.status.busy": "2021-06-04T13:42:29.266684Z",
     "iopub.status.idle": "2021-06-04T13:42:29.269178Z",
     "shell.execute_reply": "2021-06-04T13:42:29.269604Z"
    }
   },
   "outputs": [
    {
     "data": {
      "text/plain": [
       "array([29, 30, 31, 32, 33, 34, 35, 36, 37, 38, 39, 40, 41, 42, 43, 44, 45,\n",
       "       46, 47, 48, 49, 50, 51, 52, 53, 54, 55, 56, 57, 58, 59, 60, 61, 62,\n",
       "       63, 64, 65, 66, 67, 68, 69, 70, 71, 72, 73, 74, 75, 76, 77, 78, 79,\n",
       "       80, 81, 82, 83, 84, 85, 86, 87, 88, 89, 90, 91, 92, 93, 94, 95, 96,\n",
       "       97])"
      ]
     },
     "execution_count": 1,
     "metadata": {},
     "output_type": "execute_result"
    }
   ],
   "source": [
    "idx = subarray.tel_ids_to_indices(ids)\n",
    "idx"
   ]
  },
  {
   "cell_type": "code",
   "execution_count": 27,
   "metadata": {
    "execution": {
     "iopub.execute_input": "2021-06-04T13:42:29.276093Z",
     "iopub.status.busy": "2021-06-04T13:42:29.275621Z",
     "iopub.status.idle": "2021-06-04T13:42:29.277850Z",
     "shell.execute_reply": "2021-06-04T13:42:29.278220Z"
    }
   },
   "outputs": [
    {
     "data": {
      "text/plain": [
       "<SkyCoord (GroundFrame): (x, y, z) in m\n",
       "    [(  205.5       ,  -158.8999939 , 5.),\n",
       "     ( -205.5       ,   158.8999939 , 5.),\n",
       "     ( -205.5       ,  -158.8999939 , 5.),\n",
       "     (  164.82301331,   424.82397461, 5.),\n",
       "     (  164.82301331,  -424.82397461, 5.),\n",
       "     ( -164.82301331,   424.82397461, 5.),\n",
       "     ( -164.82301331,  -424.82397461, 5.),\n",
       "     (  494.46899414,   110.        , 5.),\n",
       "     (  494.46899414,  -110.        , 5.),\n",
       "     ( -494.46899414,   110.        , 5.),\n",
       "     ( -494.46899414,  -110.        , 5.),\n",
       "     (    0.        ,   519.79498291, 5.),\n",
       "     (    0.        ,  -519.79498291, 5.),\n",
       "     (  391.60601807,   403.73898315, 5.),\n",
       "     (  391.60601807,  -403.73898315, 5.),\n",
       "     ( -391.60601807,   403.73898315, 5.),\n",
       "     ( -391.60601807,  -403.73898315, 5.),\n",
       "     (  618.07299805,   318.61099243, 5.),\n",
       "     (  618.07299805,  -318.61099243, 5.),\n",
       "     ( -618.07299805,   318.61099243, 5.),\n",
       "     ( -618.07299805,  -318.61099243, 5.),\n",
       "     (    0.        ,   723.52703857, 5.),\n",
       "     (    0.        ,  -723.52703857, 5.),\n",
       "     (  820.        ,     0.        , 5.),\n",
       "     ( -820.        ,     0.        , 5.),\n",
       "     (  435.3039856 ,   673.18603516, 5.),\n",
       "     (  435.3039856 ,  -673.18603516, 5.),\n",
       "     ( -435.3039856 ,   673.18603516, 5.),\n",
       "     ( -435.3039856 ,  -673.18603516, 5.),\n",
       "     (  220.8440094 ,   796.9029541 , 5.),\n",
       "     (  220.8440094 ,  -796.9029541 , 5.),\n",
       "     (  662.53295898,   569.21600342, 5.),\n",
       "     (  662.53295898,  -569.21600342, 5.),\n",
       "     (  883.37701416,   227.68699646, 5.),\n",
       "     (  883.37701416,  -227.68699646, 5.),\n",
       "     ( -220.8440094 ,   796.9029541 , 5.),\n",
       "     ( -220.8440094 ,  -796.9029541 , 5.),\n",
       "     ( -662.53295898,   569.21600342, 5.),\n",
       "     ( -662.53295898,  -569.21600342, 5.),\n",
       "     ( -883.37701416,   227.68699646, 5.),\n",
       "     ( -883.37701416,  -227.68699646, 5.),\n",
       "     (    0.        ,   944.30102539, 5.),\n",
       "     (    0.        ,  -944.30102539, 5.),\n",
       "     (  915.92297363,   472.15100098, 5.),\n",
       "     (  915.92297363,  -472.15100098, 5.),\n",
       "     ( -915.92297363,   472.15100098, 5.),\n",
       "     ( -915.92297363,  -472.15100098, 5.),\n",
       "     ( 1100.        ,     0.        , 5.),\n",
       "     (-1100.        ,     0.        , 5.),\n",
       "     (  471.01199341,   971.21002197, 5.),\n",
       "     (  471.01199341,  -971.21002197, 5.),\n",
       "     (  706.51794434,   849.80895996, 5.),\n",
       "     (  706.51794434,  -849.80895996, 5.),\n",
       "     ( -471.01199341,   971.21002197, 5.),\n",
       "     ( -471.01199341,  -971.21002197, 5.),\n",
       "     ( -706.51794434,   849.80895996, 5.),\n",
       "     ( -706.51794434,  -849.80895996, 5.),\n",
       "     (  239.19699097,  1109.73498535, 5.),\n",
       "     (  239.19699097, -1109.73498535, 5.),\n",
       "     (  956.78704834,   739.82299805, 5.),\n",
       "     (  956.78704834,  -739.82299805, 5.),\n",
       "     ( -239.19699097,  1109.73498535, 5.),\n",
       "     ( -239.19699097, -1109.73498535, 5.),\n",
       "     ( -956.78704834,   739.82299805, 5.),\n",
       "     ( -956.78704834,  -739.82299805, 5.),\n",
       "     ( 1195.98400879,   369.9119873 , 5.),\n",
       "     ( 1195.98400879,  -369.9119873 , 5.),\n",
       "     (-1195.98400879,   369.9119873 , 5.),\n",
       "     (-1195.98400879,  -369.9119873 , 5.)]>"
      ]
     },
     "execution_count": 1,
     "metadata": {},
     "output_type": "execute_result"
    }
   ],
   "source": [
    "subarray.tel_coords[idx]"
   ]
  },
  {
   "cell_type": "markdown",
   "metadata": {},
   "source": [
    "so, with that method you can quickly get many telescope positions at once (the alternative is to use the dict `positions` which maps `tel_id` to a position on the ground"
   ]
  },
  {
   "cell_type": "code",
   "execution_count": 28,
   "metadata": {
    "execution": {
     "iopub.execute_input": "2021-06-04T13:42:29.282533Z",
     "iopub.status.busy": "2021-06-04T13:42:29.282036Z",
     "iopub.status.idle": "2021-06-04T13:42:29.284253Z",
     "shell.execute_reply": "2021-06-04T13:42:29.284623Z"
    }
   },
   "outputs": [
    {
     "data": {
      "text/latex": [
       "$[-20,~65,~16] \\; \\mathrm{m}$"
      ],
      "text/plain": [
       "<Quantity [-20.,  65.,  16.] m>"
      ]
     },
     "execution_count": 1,
     "metadata": {},
     "output_type": "execute_result"
    }
   ],
   "source": [
    "subarray.positions[1]"
   ]
  },
  {
   "cell_type": "markdown",
   "metadata": {},
   "source": [
    "## Manipulate the subarray With Pandas\n",
    "If you prefer working with *Pandas* `DataFrames` instead of *AstroPy* `Tables`, you can always convert between the two:"
   ]
  },
  {
   "cell_type": "code",
   "execution_count": 29,
   "metadata": {
    "execution": {
     "iopub.execute_input": "2021-06-04T13:42:29.289293Z",
     "iopub.status.busy": "2021-06-04T13:42:29.288844Z",
     "iopub.status.idle": "2021-06-04T13:42:29.548551Z",
     "shell.execute_reply": "2021-06-04T13:42:29.548987Z"
    }
   },
   "outputs": [
    {
     "data": {
      "text/html": [
       "<div>\n",
       "<style scoped>\n",
       "    .dataframe tbody tr th:only-of-type {\n",
       "        vertical-align: middle;\n",
       "    }\n",
       "\n",
       "    .dataframe tbody tr th {\n",
       "        vertical-align: top;\n",
       "    }\n",
       "\n",
       "    .dataframe thead th {\n",
       "        text-align: right;\n",
       "    }\n",
       "</style>\n",
       "<table border=\"1\" class=\"dataframe\">\n",
       "  <thead>\n",
       "    <tr style=\"text-align: right;\">\n",
       "      <th></th>\n",
       "      <th>pos_x</th>\n",
       "      <th>pos_y</th>\n",
       "      <th>pos_z</th>\n",
       "      <th>name</th>\n",
       "      <th>type</th>\n",
       "      <th>num_mirrors</th>\n",
       "      <th>camera_type</th>\n",
       "      <th>tel_description</th>\n",
       "    </tr>\n",
       "    <tr>\n",
       "      <th>tel_id</th>\n",
       "      <th></th>\n",
       "      <th></th>\n",
       "      <th></th>\n",
       "      <th></th>\n",
       "      <th></th>\n",
       "      <th></th>\n",
       "      <th></th>\n",
       "      <th></th>\n",
       "    </tr>\n",
       "  </thead>\n",
       "  <tbody>\n",
       "    <tr>\n",
       "      <th>1</th>\n",
       "      <td>-20.000000</td>\n",
       "      <td>65.000000</td>\n",
       "      <td>16.0</td>\n",
       "      <td>LST</td>\n",
       "      <td>LST</td>\n",
       "      <td>1</td>\n",
       "      <td>LSTCam</td>\n",
       "      <td>LST_LST_LSTCam</td>\n",
       "    </tr>\n",
       "    <tr>\n",
       "      <th>2</th>\n",
       "      <td>-20.000000</td>\n",
       "      <td>-65.000000</td>\n",
       "      <td>16.0</td>\n",
       "      <td>LST</td>\n",
       "      <td>LST</td>\n",
       "      <td>1</td>\n",
       "      <td>LSTCam</td>\n",
       "      <td>LST_LST_LSTCam</td>\n",
       "    </tr>\n",
       "    <tr>\n",
       "      <th>3</th>\n",
       "      <td>80.000000</td>\n",
       "      <td>0.000000</td>\n",
       "      <td>16.0</td>\n",
       "      <td>LST</td>\n",
       "      <td>LST</td>\n",
       "      <td>1</td>\n",
       "      <td>LSTCam</td>\n",
       "      <td>LST_LST_LSTCam</td>\n",
       "    </tr>\n",
       "    <tr>\n",
       "      <th>4</th>\n",
       "      <td>-120.000000</td>\n",
       "      <td>0.000000</td>\n",
       "      <td>16.0</td>\n",
       "      <td>LST</td>\n",
       "      <td>LST</td>\n",
       "      <td>1</td>\n",
       "      <td>LSTCam</td>\n",
       "      <td>LST_LST_LSTCam</td>\n",
       "    </tr>\n",
       "    <tr>\n",
       "      <th>5</th>\n",
       "      <td>0.000000</td>\n",
       "      <td>0.000000</td>\n",
       "      <td>10.0</td>\n",
       "      <td>MST</td>\n",
       "      <td>MST</td>\n",
       "      <td>1</td>\n",
       "      <td>FlashCam</td>\n",
       "      <td>MST_MST_FlashCam</td>\n",
       "    </tr>\n",
       "    <tr>\n",
       "      <th>...</th>\n",
       "      <td>...</td>\n",
       "      <td>...</td>\n",
       "      <td>...</td>\n",
       "      <td>...</td>\n",
       "      <td>...</td>\n",
       "      <td>...</td>\n",
       "      <td>...</td>\n",
       "      <td>...</td>\n",
       "    </tr>\n",
       "    <tr>\n",
       "      <th>94</th>\n",
       "      <td>-956.787048</td>\n",
       "      <td>-739.822998</td>\n",
       "      <td>5.0</td>\n",
       "      <td>ASTRI</td>\n",
       "      <td>SST</td>\n",
       "      <td>2</td>\n",
       "      <td>ASTRICam</td>\n",
       "      <td>SST_ASTRI_ASTRICam</td>\n",
       "    </tr>\n",
       "    <tr>\n",
       "      <th>95</th>\n",
       "      <td>1195.984009</td>\n",
       "      <td>369.911987</td>\n",
       "      <td>5.0</td>\n",
       "      <td>ASTRI</td>\n",
       "      <td>SST</td>\n",
       "      <td>2</td>\n",
       "      <td>ASTRICam</td>\n",
       "      <td>SST_ASTRI_ASTRICam</td>\n",
       "    </tr>\n",
       "    <tr>\n",
       "      <th>96</th>\n",
       "      <td>1195.984009</td>\n",
       "      <td>-369.911987</td>\n",
       "      <td>5.0</td>\n",
       "      <td>ASTRI</td>\n",
       "      <td>SST</td>\n",
       "      <td>2</td>\n",
       "      <td>ASTRICam</td>\n",
       "      <td>SST_ASTRI_ASTRICam</td>\n",
       "    </tr>\n",
       "    <tr>\n",
       "      <th>97</th>\n",
       "      <td>-1195.984009</td>\n",
       "      <td>369.911987</td>\n",
       "      <td>5.0</td>\n",
       "      <td>ASTRI</td>\n",
       "      <td>SST</td>\n",
       "      <td>2</td>\n",
       "      <td>ASTRICam</td>\n",
       "      <td>SST_ASTRI_ASTRICam</td>\n",
       "    </tr>\n",
       "    <tr>\n",
       "      <th>98</th>\n",
       "      <td>-1195.984009</td>\n",
       "      <td>-369.911987</td>\n",
       "      <td>5.0</td>\n",
       "      <td>ASTRI</td>\n",
       "      <td>SST</td>\n",
       "      <td>2</td>\n",
       "      <td>ASTRICam</td>\n",
       "      <td>SST_ASTRI_ASTRICam</td>\n",
       "    </tr>\n",
       "  </tbody>\n",
       "</table>\n",
       "<p>98 rows × 8 columns</p>\n",
       "</div>"
      ],
      "text/plain": [
       "              pos_x       pos_y  pos_z   name type  num_mirrors camera_type  \\\n",
       "tel_id                                                                        \n",
       "1        -20.000000   65.000000   16.0    LST  LST            1      LSTCam   \n",
       "2        -20.000000  -65.000000   16.0    LST  LST            1      LSTCam   \n",
       "3         80.000000    0.000000   16.0    LST  LST            1      LSTCam   \n",
       "4       -120.000000    0.000000   16.0    LST  LST            1      LSTCam   \n",
       "5          0.000000    0.000000   10.0    MST  MST            1    FlashCam   \n",
       "...             ...         ...    ...    ...  ...          ...         ...   \n",
       "94      -956.787048 -739.822998    5.0  ASTRI  SST            2    ASTRICam   \n",
       "95      1195.984009  369.911987    5.0  ASTRI  SST            2    ASTRICam   \n",
       "96      1195.984009 -369.911987    5.0  ASTRI  SST            2    ASTRICam   \n",
       "97     -1195.984009  369.911987    5.0  ASTRI  SST            2    ASTRICam   \n",
       "98     -1195.984009 -369.911987    5.0  ASTRI  SST            2    ASTRICam   \n",
       "\n",
       "           tel_description  \n",
       "tel_id                      \n",
       "1           LST_LST_LSTCam  \n",
       "2           LST_LST_LSTCam  \n",
       "3           LST_LST_LSTCam  \n",
       "4           LST_LST_LSTCam  \n",
       "5         MST_MST_FlashCam  \n",
       "...                    ...  \n",
       "94      SST_ASTRI_ASTRICam  \n",
       "95      SST_ASTRI_ASTRICam  \n",
       "96      SST_ASTRI_ASTRICam  \n",
       "97      SST_ASTRI_ASTRICam  \n",
       "98      SST_ASTRI_ASTRICam  \n",
       "\n",
       "[98 rows x 8 columns]"
      ]
     },
     "execution_count": 1,
     "metadata": {},
     "output_type": "execute_result"
    }
   ],
   "source": [
    "tel_string = \"LST_LST_LSTCam\" # an LST with LST structure and LSTCam camera\n",
    "df = subarray.to_table().to_pandas()\n",
    "df.set_index('tel_id')"
   ]
  },
  {
   "cell_type": "code",
   "execution_count": 30,
   "metadata": {
    "execution": {
     "iopub.execute_input": "2021-06-04T13:42:29.555183Z",
     "iopub.status.busy": "2021-06-04T13:42:29.554718Z",
     "iopub.status.idle": "2021-06-04T13:42:29.557177Z",
     "shell.execute_reply": "2021-06-04T13:42:29.557552Z"
    }
   },
   "outputs": [
    {
     "data": {
      "text/plain": [
       "{'LST_LST_LSTCam': [0, 1, 2, 3], 'MST_MST_FlashCam': [4, 5, 6, 7, 8, 9, 10, 11, 12, 13, 14, 15, 16, 17, 18, 19, 20, 21, 22, 23, 24, 25, 26, 27, 28], 'SST_ASTRI_ASTRICam': [29, 30, 31, 32, 33, 34, 35, 36, 37, 38, 39, 40, 41, 42, 43, 44, 45, 46, 47, 48, 49, 50, 51, 52, 53, 54, 55, 56, 57, 58, 59, 60, 61, 62, 63, 64, 65, 66, 67, 68, 69, 70, 71, 72, 73, 74, 75, 76, 77, 78, 79, 80, 81, 82, 83, 84, 85, 86, 87, 88, 89, 90, 91, 92, 93, 94, 95, 96, 97]}"
      ]
     },
     "execution_count": 1,
     "metadata": {},
     "output_type": "execute_result"
    }
   ],
   "source": [
    "g = df.groupby('tel_description')\n",
    "g.groups"
   ]
  },
  {
   "cell_type": "code",
   "execution_count": 31,
   "metadata": {
    "execution": {
     "iopub.execute_input": "2021-06-04T13:42:29.561674Z",
     "iopub.status.busy": "2021-06-04T13:42:29.561187Z",
     "iopub.status.idle": "2021-06-04T13:42:29.563376Z",
     "shell.execute_reply": "2021-06-04T13:42:29.563753Z"
    }
   },
   "outputs": [
    {
     "data": {
      "text/plain": [
       "Int64Index([0, 1, 2, 3], dtype='int64')"
      ]
     },
     "execution_count": 1,
     "metadata": {},
     "output_type": "execute_result"
    }
   ],
   "source": [
    "g.groups[tel_string]"
   ]
  },
  {
   "cell_type": "code",
   "execution_count": 32,
   "metadata": {
    "execution": {
     "iopub.execute_input": "2021-06-04T13:42:29.574952Z",
     "iopub.status.busy": "2021-06-04T13:42:29.574482Z",
     "iopub.status.idle": "2021-06-04T13:42:29.576742Z",
     "shell.execute_reply": "2021-06-04T13:42:29.577114Z"
    }
   },
   "outputs": [
    {
     "data": {
      "text/html": [
       "<div>\n",
       "<style scoped>\n",
       "    .dataframe tbody tr th:only-of-type {\n",
       "        vertical-align: middle;\n",
       "    }\n",
       "\n",
       "    .dataframe tbody tr th {\n",
       "        vertical-align: top;\n",
       "    }\n",
       "\n",
       "    .dataframe thead th {\n",
       "        text-align: right;\n",
       "    }\n",
       "</style>\n",
       "<table border=\"1\" class=\"dataframe\">\n",
       "  <thead>\n",
       "    <tr style=\"text-align: right;\">\n",
       "      <th></th>\n",
       "      <th>tel_id</th>\n",
       "      <th>pos_x</th>\n",
       "      <th>pos_y</th>\n",
       "      <th>pos_z</th>\n",
       "      <th>name</th>\n",
       "      <th>type</th>\n",
       "      <th>num_mirrors</th>\n",
       "      <th>camera_type</th>\n",
       "      <th>tel_description</th>\n",
       "    </tr>\n",
       "  </thead>\n",
       "  <tbody>\n",
       "    <tr>\n",
       "      <th>0</th>\n",
       "      <td>1</td>\n",
       "      <td>-20.0</td>\n",
       "      <td>65.0</td>\n",
       "      <td>16.0</td>\n",
       "      <td>LST</td>\n",
       "      <td>LST</td>\n",
       "      <td>1</td>\n",
       "      <td>LSTCam</td>\n",
       "      <td>LST_LST_LSTCam</td>\n",
       "    </tr>\n",
       "    <tr>\n",
       "      <th>1</th>\n",
       "      <td>2</td>\n",
       "      <td>-20.0</td>\n",
       "      <td>-65.0</td>\n",
       "      <td>16.0</td>\n",
       "      <td>LST</td>\n",
       "      <td>LST</td>\n",
       "      <td>1</td>\n",
       "      <td>LSTCam</td>\n",
       "      <td>LST_LST_LSTCam</td>\n",
       "    </tr>\n",
       "    <tr>\n",
       "      <th>2</th>\n",
       "      <td>3</td>\n",
       "      <td>80.0</td>\n",
       "      <td>0.0</td>\n",
       "      <td>16.0</td>\n",
       "      <td>LST</td>\n",
       "      <td>LST</td>\n",
       "      <td>1</td>\n",
       "      <td>LSTCam</td>\n",
       "      <td>LST_LST_LSTCam</td>\n",
       "    </tr>\n",
       "    <tr>\n",
       "      <th>3</th>\n",
       "      <td>4</td>\n",
       "      <td>-120.0</td>\n",
       "      <td>0.0</td>\n",
       "      <td>16.0</td>\n",
       "      <td>LST</td>\n",
       "      <td>LST</td>\n",
       "      <td>1</td>\n",
       "      <td>LSTCam</td>\n",
       "      <td>LST_LST_LSTCam</td>\n",
       "    </tr>\n",
       "  </tbody>\n",
       "</table>\n",
       "</div>"
      ],
      "text/plain": [
       "   tel_id  pos_x  pos_y  pos_z name type  num_mirrors camera_type  \\\n",
       "0       1  -20.0   65.0   16.0  LST  LST            1      LSTCam   \n",
       "1       2  -20.0  -65.0   16.0  LST  LST            1      LSTCam   \n",
       "2       3   80.0    0.0   16.0  LST  LST            1      LSTCam   \n",
       "3       4 -120.0    0.0   16.0  LST  LST            1      LSTCam   \n",
       "\n",
       "  tel_description  \n",
       "0  LST_LST_LSTCam  \n",
       "1  LST_LST_LSTCam  \n",
       "2  LST_LST_LSTCam  \n",
       "3  LST_LST_LSTCam  "
      ]
     },
     "execution_count": 1,
     "metadata": {},
     "output_type": "execute_result"
    }
   ],
   "source": [
    "df.loc[g.groups[tel_string]]"
   ]
  },
  {
   "cell_type": "code",
   "execution_count": 33,
   "metadata": {
    "execution": {
     "iopub.execute_input": "2021-06-04T13:42:29.582892Z",
     "iopub.status.busy": "2021-06-04T13:42:29.582429Z",
     "iopub.status.idle": "2021-06-04T13:42:29.762575Z",
     "shell.execute_reply": "2021-06-04T13:42:29.762154Z"
    }
   },
   "outputs": [
    {
     "name": "stdout",
     "output_type": "stream",
     "text": [
      "Subarray : LSTs\n",
      "Num Tels : 4\n",
      "Footprint: 0.05 km2\n",
      "\n",
      "     Type      Count Tel IDs\n",
      "-------------- ----- -------\n",
      "LST_LST_LSTCam     4 1-4    \n"
     ]
    },
    {
     "data": {
      "text/latex": [
       "$0.045238934 \\; \\mathrm{km^{2}}$"
      ],
      "text/plain": [
       "<Quantity 0.04523893 km2>"
      ]
     },
     "execution_count": 1,
     "metadata": {},
     "output_type": "execute_result"
    },
    {
     "data": {
      "image/png": "[encoded data removed]",
      "text/plain": [
       "<Figure size 576x576 with 1 Axes>"
      ]
     },
     "metadata": {
      "needs_background": "light"
     },
     "output_type": "display_data"
    }
   ],
   "source": [
    "lsts = subarray.select_subarray(df.loc[g.groups[tel_string]]['tel_id'], name=\"LSTs\")\n",
    "lsts.info()\n",
    "lsts.peek()\n",
    "lsts.footprint"
   ]
  },
  {
   "cell_type": "code",
   "execution_count": null,
   "metadata": {},
   "outputs": [],
   "source": []
  },
  {
   "cell_type": "code",
   "execution_count": null,
   "metadata": {},
   "outputs": [],
   "source": []
  }
 ],
 "metadata": {
  "kernelspec": {
   "display_name": "Python 3",
   "language": "python",
   "name": "python3"
  },
  "language_info": {
   "codemirror_mode": {
    "name": "ipython",
    "version": 3
   },
   "file_extension": ".py",
   "mimetype": "text/x-python",
   "name": "python",
   "nbconvert_exporter": "python",
   "pygments_lexer": "ipython3",
   "version": "3.8.2"
  },
  "widgets": {
   "application/vnd.jupyter.widget-state+json": {
    "state": {
     "0060d180298145ddb8e71f8a00c17266": {
      "model_module": "@jupyter-widgets/base",
      "model_module_version": "1.2.0",
      "model_name": "LayoutModel",
      "state": {
       "_model_module": "@jupyter-widgets/base",
       "_model_module_version": "1.2.0",
       "_model_name": "LayoutModel",
       "_view_count": null,
       "_view_module": "@jupyter-widgets/base",
       "_view_module_version": "1.2.0",
       "_view_name": "LayoutView",
       "align_content": null,
       "align_items": null,
       "align_self": null,
       "border": null,
       "bottom": null,
       "display": null,
       "flex": null,
       "flex_flow": null,
       "grid_area": null,
       "grid_auto_columns": null,
       "grid_auto_flow": null,
       "grid_auto_rows": null,
       "grid_column": null,
       "grid_gap": null,
       "grid_row": null,
       "grid_template_areas": null,
       "grid_template_columns": null,
       "grid_template_rows": null,
       "height": null,
       "justify_content": null,
       "justify_items": null,
       "left": null,
       "margin": null,
       "max_height": null,
       "max_width": null,
       "min_height": null,
       "min_width": null,
       "object_fit": null,
       "object_position": null,
       "order": null,
       "overflow": null,
       "overflow_x": null,
       "overflow_y": null,
       "padding": null,
       "right": null,
       "top": null,
       "visibility": null,
       "width": null
      }
     },
     "0db2ebaa6d594fc8900dd4b13a2881f8": {
      "model_module": "@jupyter-widgets/base",
      "model_module_version": "1.2.0",
      "model_name": "LayoutModel",
      "state": {
       "_model_module": "@jupyter-widgets/base",
       "_model_module_version": "1.2.0",
       "_model_name": "LayoutModel",
       "_view_count": null,
       "_view_module": "@jupyter-widgets/base",
       "_view_module_version": "1.2.0",
       "_view_name": "LayoutView",
       "align_content": null,
       "align_items": null,
       "align_self": null,
       "border": null,
       "bottom": null,
       "display": null,
       "flex": null,
       "flex_flow": null,
       "grid_area": null,
       "grid_auto_columns": null,
       "grid_auto_flow": null,
       "grid_auto_rows": null,
       "grid_column": null,
       "grid_gap": null,
       "grid_row": null,
       "grid_template_areas": null,
       "grid_template_columns": null,
       "grid_template_rows": null,
       "height": null,
       "justify_content": null,
       "justify_items": null,
       "left": null,
       "margin": null,
       "max_height": null,
       "max_width": null,
       "min_height": null,
       "min_width": null,
       "object_fit": null,
       "object_position": null,
       "order": null,
       "overflow": null,
       "overflow_x": null,
       "overflow_y": null,
       "padding": null,
       "right": null,
       "top": null,
       "visibility": null,
       "width": null
      }
     },
     "32a3f4de6edd4acbb0f1397115628a02": {
      "model_module": "@jupyter-widgets/base",
      "model_module_version": "1.2.0",
      "model_name": "LayoutModel",
      "state": {
       "_model_module": "@jupyter-widgets/base",
       "_model_module_version": "1.2.0",
       "_model_name": "LayoutModel",
       "_view_count": null,
       "_view_module": "@jupyter-widgets/base",
       "_view_module_version": "1.2.0",
       "_view_name": "LayoutView",
       "align_content": null,
       "align_items": null,
       "align_self": null,
       "border": null,
       "bottom": null,
       "display": null,
       "flex": null,
       "flex_flow": null,
       "grid_area": null,
       "grid_auto_columns": null,
       "grid_auto_flow": null,
       "grid_auto_rows": null,
       "grid_column": null,
       "grid_gap": null,
       "grid_row": null,
       "grid_template_areas": null,
       "grid_template_columns": null,
       "grid_template_rows": null,
       "height": null,
       "justify_content": null,
       "justify_items": null,
       "left": null,
       "margin": null,
       "max_height": null,
       "max_width": null,
       "min_height": null,
       "min_width": null,
       "object_fit": null,
       "object_position": null,
       "order": null,
       "overflow": null,
       "overflow_x": null,
       "overflow_y": null,
       "padding": null,
       "right": null,
       "top": null,
       "visibility": null,
       "width": null
      }
     },
     "37bc2be836b04e8289bf908af327b77a": {
      "model_module": "@jupyter-widgets/controls",
      "model_module_version": "1.5.0",
      "model_name": "DescriptionStyleModel",
      "state": {
       "_model_module": "@jupyter-widgets/controls",
       "_model_module_version": "1.5.0",
       "_model_name": "DescriptionStyleModel",
       "_view_count": null,
       "_view_module": "@jupyter-widgets/base",
       "_view_module_version": "1.2.0",
       "_view_name": "StyleView",
       "description_width": ""
      }
     },
     "3c368c310ef34e64bfca0b202d079c9f": {
      "model_module": "@jupyter-widgets/controls",
      "model_module_version": "1.5.0",
      "model_name": "HTMLModel",
      "state": {
       "_dom_classes": [],
       "_model_module": "@jupyter-widgets/controls",
       "_model_module_version": "1.5.0",
       "_model_name": "HTMLModel",
       "_view_count": null,
       "_view_module": "@jupyter-widgets/controls",
       "_view_module_version": "1.5.0",
       "_view_name": "HTMLView",
       "description": "",
       "description_tooltip": null,
       "layout": "IPY_MODEL_828beaf7d606447aa250c76531300daf",
       "placeholder": "​",
       "style": "IPY_MODEL_4ff6b5b3a3db46d28e6691ac599f497d",
       "value": "Downloading gamma_test_large.simtel.gz: 100%"
      }
     },
     "4e3d2376283146679d1bc460a5ad9d6a": {
      "model_module": "@jupyter-widgets/controls",
      "model_module_version": "1.5.0",
      "model_name": "HBoxModel",
      "state": {
       "_dom_classes": [],
       "_model_module": "@jupyter-widgets/controls",
       "_model_module_version": "1.5.0",
       "_model_name": "HBoxModel",
       "_view_count": null,
       "_view_module": "@jupyter-widgets/controls",
       "_view_module_version": "1.5.0",
       "_view_name": "HBoxView",
       "box_style": "",
       "children": [
        "IPY_MODEL_3c368c310ef34e64bfca0b202d079c9f",
        "IPY_MODEL_5456ef871b3245fc906b0c256fc57971",
        "IPY_MODEL_59f2e74ab15646afa985ad555adf54d0"
       ],
       "layout": "IPY_MODEL_32a3f4de6edd4acbb0f1397115628a02"
      }
     },
     "4ff6b5b3a3db46d28e6691ac599f497d": {
      "model_module": "@jupyter-widgets/controls",
      "model_module_version": "1.5.0",
      "model_name": "DescriptionStyleModel",
      "state": {
       "_model_module": "@jupyter-widgets/controls",
       "_model_module_version": "1.5.0",
       "_model_name": "DescriptionStyleModel",
       "_view_count": null,
       "_view_module": "@jupyter-widgets/base",
       "_view_module_version": "1.2.0",
       "_view_name": "StyleView",
       "description_width": ""
      }
     },
     "5456ef871b3245fc906b0c256fc57971": {
      "model_module": "@jupyter-widgets/controls",
      "model_module_version": "1.5.0",
      "model_name": "FloatProgressModel",
      "state": {
       "_dom_classes": [],
       "_model_module": "@jupyter-widgets/controls",
       "_model_module_version": "1.5.0",
       "_model_name": "FloatProgressModel",
       "_view_count": null,
       "_view_module": "@jupyter-widgets/controls",
       "_view_module_version": "1.5.0",
       "_view_name": "ProgressView",
       "bar_style": "",
       "description": "",
       "description_tooltip": null,
       "layout": "IPY_MODEL_0060d180298145ddb8e71f8a00c17266",
       "max": 41658433.0,
       "min": 0.0,
       "orientation": "horizontal",
       "style": "IPY_MODEL_5d77cbb55b18458c801fd1bdd21f9759",
       "value": 41451520.0
      }
     },
     "59f2e74ab15646afa985ad555adf54d0": {
      "model_module": "@jupyter-widgets/controls",
      "model_module_version": "1.5.0",
      "model_name": "HTMLModel",
      "state": {
       "_dom_classes": [],
       "_model_module": "@jupyter-widgets/controls",
       "_model_module_version": "1.5.0",
       "_model_name": "HTMLModel",
       "_view_count": null,
       "_view_module": "@jupyter-widgets/controls",
       "_view_module_version": "1.5.0",
       "_view_name": "HTMLView",
       "description": "",
       "description_tooltip": null,
       "layout": "IPY_MODEL_0db2ebaa6d594fc8900dd4b13a2881f8",
       "placeholder": "​",
       "style": "IPY_MODEL_37bc2be836b04e8289bf908af327b77a",
       "value": " 41.5M/41.7M [00:02&lt;00:00, 27.3MB/s]"
      }
     },
     "5d77cbb55b18458c801fd1bdd21f9759": {
      "model_module": "@jupyter-widgets/controls",
      "model_module_version": "1.5.0",
      "model_name": "ProgressStyleModel",
      "state": {
       "_model_module": "@jupyter-widgets/controls",
       "_model_module_version": "1.5.0",
       "_model_name": "ProgressStyleModel",
       "_view_count": null,
       "_view_module": "@jupyter-widgets/base",
       "_view_module_version": "1.2.0",
       "_view_name": "StyleView",
       "bar_color": null,
       "description_width": ""
      }
     },
     "828beaf7d606447aa250c76531300daf": {
      "model_module": "@jupyter-widgets/base",
      "model_module_version": "1.2.0",
      "model_name": "LayoutModel",
      "state": {
       "_model_module": "@jupyter-widgets/base",
       "_model_module_version": "1.2.0",
       "_model_name": "LayoutModel",
       "_view_count": null,
       "_view_module": "@jupyter-widgets/base",
       "_view_module_version": "1.2.0",
       "_view_name": "LayoutView",
       "align_content": null,
       "align_items": null,
       "align_self": null,
       "border": null,
       "bottom": null,
       "display": null,
       "flex": null,
       "flex_flow": null,
       "grid_area": null,
       "grid_auto_columns": null,
       "grid_auto_flow": null,
       "grid_auto_rows": null,
       "grid_column": null,
       "grid_gap": null,
       "grid_row": null,
       "grid_template_areas": null,
       "grid_template_columns": null,
       "grid_template_rows": null,
       "height": null,
       "justify_content": null,
       "justify_items": null,
       "left": null,
       "margin": null,
       "max_height": null,
       "max_width": null,
       "min_height": null,
       "min_width": null,
       "object_fit": null,
       "object_position": null,
       "order": null,
       "overflow": null,
       "overflow_x": null,
       "overflow_y": null,
       "padding": null,
       "right": null,
       "top": null,
       "visibility": null,
       "width": null
      }
     }
    },
    "version_major": 2,
    "version_minor": 0
   }
  }
 },
 "nbformat": 4,
 "nbformat_minor": 2
}
