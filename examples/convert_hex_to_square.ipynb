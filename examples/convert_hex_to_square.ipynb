{
 "cells": [
  {
   "cell_type": "markdown",
   "metadata": {},
   "source": [
    "# Convert hexagonal cameras into square grid and back"
   ]
  },
  {
   "cell_type": "code",
   "execution_count": 1,
   "metadata": {
    "execution": {
     "iopub.execute_input": "2021-06-04T13:42:56.807341Z",
     "iopub.status.busy": "2021-06-04T13:42:56.806823Z",
     "iopub.status.idle": "2021-06-04T13:42:59.899534Z",
     "shell.execute_reply": "2021-06-04T13:42:59.898997Z"
    }
   },
   "outputs": [],
   "source": [
    "from ctapipe.utils import get_dataset_path\n",
    "from ctapipe.image.geometry_converter import convert_geometry_hex1d_to_rect2d, convert_geometry_rect2d_back_to_hexe1d\n",
    "from ctapipe.visualization import CameraDisplay\n",
    "from ctapipe.io import EventSource\n",
    "import copy\n",
    "import matplotlib.pyplot as plt"
   ]
  },
  {
   "cell_type": "markdown",
   "metadata": {},
   "source": [
    "## Setup"
   ]
  },
  {
   "cell_type": "code",
   "execution_count": 2,
   "metadata": {
    "execution": {
     "iopub.execute_input": "2021-06-04T13:42:59.903277Z",
     "iopub.status.busy": "2021-06-04T13:42:59.902455Z",
     "iopub.status.idle": "2021-06-04T13:42:59.905787Z",
     "shell.execute_reply": "2021-06-04T13:42:59.905398Z"
    }
   },
   "outputs": [],
   "source": [
    "filename = get_dataset_path('gamma_test_large.simtel.gz')"
   ]
  },
  {
   "cell_type": "code",
   "execution_count": 3,
   "metadata": {
    "execution": {
     "iopub.execute_input": "2021-06-04T13:42:59.909091Z",
     "iopub.status.busy": "2021-06-04T13:42:59.908584Z",
     "iopub.status.idle": "2021-06-04T13:43:01.744348Z",
     "shell.execute_reply": "2021-06-04T13:43:01.743850Z"
    }
   },
   "outputs": [],
   "source": [
    "source = EventSource(filename, max_events=10, allowed_tels={1})"
   ]
  },
  {
   "cell_type": "code",
   "execution_count": 4,
   "metadata": {
    "execution": {
     "iopub.execute_input": "2021-06-04T13:43:01.763440Z",
     "iopub.status.busy": "2021-06-04T13:43:01.762980Z",
     "iopub.status.idle": "2021-06-04T13:43:03.951085Z",
     "shell.execute_reply": "2021-06-04T13:43:03.950641Z"
    }
   },
   "outputs": [],
   "source": [
    "events = [copy.deepcopy(event) for event in source]"
   ]
  },
  {
   "cell_type": "code",
   "execution_count": 5,
   "metadata": {
    "execution": {
     "iopub.execute_input": "2021-06-04T13:43:03.954260Z",
     "iopub.status.busy": "2021-06-04T13:43:03.953813Z",
     "iopub.status.idle": "2021-06-04T13:43:03.957682Z",
     "shell.execute_reply": "2021-06-04T13:43:03.957071Z"
    }
   },
   "outputs": [],
   "source": [
    "event = events[0]"
   ]
  },
  {
   "cell_type": "code",
   "execution_count": 6,
   "metadata": {
    "execution": {
     "iopub.execute_input": "2021-06-04T13:43:03.976144Z",
     "iopub.status.busy": "2021-06-04T13:43:03.961742Z",
     "iopub.status.idle": "2021-06-04T13:43:04.339801Z",
     "shell.execute_reply": "2021-06-04T13:43:04.339389Z"
    }
   },
   "outputs": [
    {
     "data": {
      "text/plain": [
       "<ctapipe.visualization.mpl_camera.CameraDisplay at 0x7fab26473af0>"
      ]
     },
     "execution_count": 1,
     "metadata": {},
     "output_type": "execute_result"
    }
   ],
   "source": [
    "geometry = source.subarray.tel[1].camera.geometry\n",
    "image = event.r0.tel[1].waveform[0].sum(axis=1)\n",
    "CameraDisplay(geometry, image)"
   ]
  },
  {
   "cell_type": "markdown",
   "metadata": {},
   "source": [
    "## Conversion into square geometry"
   ]
  },
  {
   "cell_type": "markdown",
   "metadata": {},
   "source": [
    "**A key must be speficied to be able to convert back to hexagonal afterwards**   \n",
    "The conversion geometry is stored in `ctapipe.image.geometry_convert.rot_buffer`"
   ]
  },
  {
   "cell_type": "code",
   "execution_count": 7,
   "metadata": {
    "execution": {
     "iopub.execute_input": "2021-06-04T13:43:04.345980Z",
     "iopub.status.busy": "2021-06-04T13:43:04.345202Z",
     "iopub.status.idle": "2021-06-04T13:43:04.749137Z",
     "shell.execute_reply": "2021-06-04T13:43:04.748688Z"
    }
   },
   "outputs": [],
   "source": [
    "key = 0\n",
    "square_geom, square_image = convert_geometry_hex1d_to_rect2d(geometry, image, key=key)"
   ]
  },
  {
   "cell_type": "code",
   "execution_count": 8,
   "metadata": {
    "execution": {
     "iopub.execute_input": "2021-06-04T13:43:04.754499Z",
     "iopub.status.busy": "2021-06-04T13:43:04.754014Z",
     "iopub.status.idle": "2021-06-04T13:43:04.757560Z",
     "shell.execute_reply": "2021-06-04T13:43:04.756855Z"
    }
   },
   "outputs": [
    {
     "data": {
      "text/plain": [
       "<matplotlib.image.AxesImage at 0x7fab260cd760>"
      ]
     },
     "execution_count": 1,
     "metadata": {},
     "output_type": "execute_result"
    }
   ],
   "source": [
    "plt.imshow(square_image)"
   ]
  },
  {
   "cell_type": "markdown",
   "metadata": {},
   "source": [
    "## Conversion back to hexagonal geometry"
   ]
  },
  {
   "cell_type": "code",
   "execution_count": 9,
   "metadata": {
    "execution": {
     "iopub.execute_input": "2021-06-04T13:43:04.760971Z",
     "iopub.status.busy": "2021-06-04T13:43:04.760257Z",
     "iopub.status.idle": "2021-06-04T13:43:04.764823Z",
     "shell.execute_reply": "2021-06-04T13:43:04.764027Z"
    }
   },
   "outputs": [],
   "source": [
    "hex_geom, hex_image = convert_geometry_rect2d_back_to_hexe1d(square_geom, square_image, key=key)"
   ]
  },
  {
   "cell_type": "code",
   "execution_count": 10,
   "metadata": {
    "execution": {
     "iopub.execute_input": "2021-06-04T13:43:04.926991Z",
     "iopub.status.busy": "2021-06-04T13:43:04.767244Z",
     "iopub.status.idle": "2021-06-04T13:43:05.063917Z",
     "shell.execute_reply": "2021-06-04T13:43:05.063498Z"
    }
   },
   "outputs": [
    {
     "data": {
      "text/plain": [
       "<ctapipe.visualization.mpl_camera.CameraDisplay at 0x7fab260cd7f0>"
      ]
     },
     "execution_count": 1,
     "metadata": {},
     "output_type": "execute_result"
    }
   ],
   "source": [
    "CameraDisplay(hex_geom, hex_image)"
   ]
  },
  {
   "cell_type": "markdown",
   "metadata": {},
   "source": [
    "Let's check that the images are exactly the same:"
   ]
  },
  {
   "cell_type": "code",
   "execution_count": 11,
   "metadata": {
    "execution": {
     "iopub.execute_input": "2021-06-04T13:43:05.067669Z",
     "iopub.status.busy": "2021-06-04T13:43:05.067221Z",
     "iopub.status.idle": "2021-06-04T13:43:05.070225Z",
     "shell.execute_reply": "2021-06-04T13:43:05.069838Z"
    }
   },
   "outputs": [],
   "source": [
    "assert (hex_image == image).all()"
   ]
  },
  {
   "cell_type": "code",
   "execution_count": 12,
   "metadata": {
    "execution": {
     "iopub.execute_input": "2021-06-04T13:43:05.073827Z",
     "iopub.status.busy": "2021-06-04T13:43:05.073177Z",
     "iopub.status.idle": "2021-06-04T13:43:05.076169Z",
     "shell.execute_reply": "2021-06-04T13:43:05.076514Z"
    }
   },
   "outputs": [],
   "source": [
    "assert hex_geom == geometry"
   ]
  }
 ],
 "metadata": {
  "kernelspec": {
   "display_name": "Python 3",
   "language": "python",
   "name": "python3"
  },
  "language_info": {
   "codemirror_mode": {
    "name": "ipython",
    "version": 3
   },
   "file_extension": ".py",
   "mimetype": "text/x-python",
   "name": "python",
   "nbconvert_exporter": "python",
   "pygments_lexer": "ipython3",
   "version": "3.8.2"
  }
 },
 "nbformat": 4,
 "nbformat_minor": 2
}
